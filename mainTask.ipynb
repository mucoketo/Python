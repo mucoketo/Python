{
 "cells": [
  {
   "cell_type": "code",
   "execution_count": 1,
   "metadata": {},
   "outputs": [],
   "source": [
    "import statistics\n"
   ]
  },
  {
   "cell_type": "code",
   "execution_count": 2,
   "metadata": {},
   "outputs": [],
   "source": [
    "FILE_NAME = 'BHPOB - 1600m - 3000m obstáculos.csv'\n",
    "FOLDER = '../registros/'\n"
   ]
  },
  {
   "cell_type": "code",
   "execution_count": 3,
   "metadata": {},
   "outputs": [],
   "source": [
    "runner, meters, category = FILE_NAME.removesuffix(\".csv\").split(\"-\")\n"
   ]
  },
  {
   "cell_type": "code",
   "execution_count": 4,
   "metadata": {},
   "outputs": [],
   "source": [
    "with open(FOLDER + FILE_NAME) as df:\n",
    "    data = df.readlines()\n"
   ]
  },
  {
   "cell_type": "code",
   "execution_count": 5,
   "metadata": {},
   "outputs": [
    {
     "name": "stdout",
     "output_type": "stream",
     "text": [
      "Tiempo\n",
      "00:34.32\n",
      "00:58.43\n",
      "00:30.60\n",
      "00:19.06\n",
      "01:13.22\n",
      "01:11.16\n",
      "['00:34.32', '00:58.43', '00:30.60', '00:19.06', '01:13.22', '01:11.16']\n"
     ]
    }
   ],
   "source": [
    "times = []\n",
    "for i in data:\n",
    "    line = i.removesuffix('\\n').split(\";\")[1]\n",
    "    print(line)\n",
    "    if line != 'Tiempo':\n",
    "        times.append(line)\n",
    "print(times)\n"
   ]
  },
  {
   "cell_type": "code",
   "execution_count": 6,
   "metadata": {},
   "outputs": [
    {
     "name": "stdout",
     "output_type": "stream",
     "text": [
      "[3432, 5843, 3060, 1906, 7322, 7116]\n"
     ]
    }
   ],
   "source": [
    "list_converted_times = []\n",
    "for t in times:\n",
    "    minutes, rest = t.split(\":\")\n",
    "    seconds, hundredths = rest.split(\".\")\n",
    "    hundredths_time = int(minutes)*60*100 + int(seconds)*100 + int(hundredths)\n",
    "    list_converted_times.append(hundredths_time)\n",
    "print(list_converted_times)\n"
   ]
  },
  {
   "cell_type": "code",
   "execution_count": 7,
   "metadata": {},
   "outputs": [],
   "source": [
    "average_time = statistics.mean(list_converted_times)\n",
    "str(round(average_time / 100, 2)).split(\".\")\n",
    "seconds, hundredths = str(round(average_time / 100, 2)).split(\".\")\n"
   ]
  },
  {
   "cell_type": "code",
   "execution_count": 8,
   "metadata": {},
   "outputs": [
    {
     "data": {
      "text/plain": [
       "'0:47.8'"
      ]
     },
     "execution_count": 8,
     "metadata": {},
     "output_type": "execute_result"
    }
   ],
   "source": [
    "seconds = int(seconds)\n",
    "minutes = seconds // 60\n",
    "seconds = seconds - minutes*60\n",
    "str(minutes) + \":\" + str(seconds) + \".\" + hundredths\n"
   ]
  }
 ],
 "metadata": {
  "kernelspec": {
   "display_name": "Python 3",
   "language": "python",
   "name": "python3"
  },
  "language_info": {
   "codemirror_mode": {
    "name": "ipython",
    "version": 3
   },
   "file_extension": ".py",
   "mimetype": "text/x-python",
   "name": "python",
   "nbconvert_exporter": "python",
   "pygments_lexer": "ipython3",
   "version": "3.11.3"
  },
  "orig_nbformat": 4
 },
 "nbformat": 4,
 "nbformat_minor": 2
}
